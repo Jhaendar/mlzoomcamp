{
 "cells": [
  {
   "cell_type": "markdown",
   "metadata": {},
   "source": [
    "# Homework 01"
   ]
  },
  {
   "cell_type": "code",
   "execution_count": 66,
   "metadata": {},
   "outputs": [],
   "source": [
    "import pandas as pd\n",
    "import numpy as np"
   ]
  },
  {
   "cell_type": "code",
   "execution_count": 3,
   "metadata": {},
   "outputs": [
    {
     "data": {
      "text/plain": [
       "'2.2.3'"
      ]
     },
     "execution_count": 3,
     "metadata": {},
     "output_type": "execute_result"
    }
   ],
   "source": [
    "# Question 1 \n",
    "pd.__version__"
   ]
  },
  {
   "cell_type": "code",
   "execution_count": 4,
   "metadata": {},
   "outputs": [],
   "source": [
    "# Import data\n",
    "laptops_dataframe = pd.read_csv('laptops.csv')"
   ]
  },
  {
   "cell_type": "code",
   "execution_count": 59,
   "metadata": {},
   "outputs": [
    {
     "data": {
      "text/html": [
       "<div>\n",
       "<style scoped>\n",
       "    .dataframe tbody tr th:only-of-type {\n",
       "        vertical-align: middle;\n",
       "    }\n",
       "\n",
       "    .dataframe tbody tr th {\n",
       "        vertical-align: top;\n",
       "    }\n",
       "\n",
       "    .dataframe thead th {\n",
       "        text-align: right;\n",
       "    }\n",
       "</style>\n",
       "<table border=\"1\" class=\"dataframe\">\n",
       "  <thead>\n",
       "    <tr style=\"text-align: right;\">\n",
       "      <th></th>\n",
       "      <th>Laptop</th>\n",
       "      <th>Status</th>\n",
       "      <th>Brand</th>\n",
       "      <th>Model</th>\n",
       "      <th>CPU</th>\n",
       "      <th>RAM</th>\n",
       "      <th>Storage</th>\n",
       "      <th>Storage type</th>\n",
       "      <th>GPU</th>\n",
       "      <th>Screen</th>\n",
       "      <th>Touch</th>\n",
       "      <th>Final Price</th>\n",
       "    </tr>\n",
       "  </thead>\n",
       "  <tbody>\n",
       "    <tr>\n",
       "      <th>count</th>\n",
       "      <td>2160</td>\n",
       "      <td>2160</td>\n",
       "      <td>2160</td>\n",
       "      <td>2160</td>\n",
       "      <td>2160</td>\n",
       "      <td>2160.000000</td>\n",
       "      <td>2160.000000</td>\n",
       "      <td>2118</td>\n",
       "      <td>789</td>\n",
       "      <td>2156.000000</td>\n",
       "      <td>2160</td>\n",
       "      <td>2160.000000</td>\n",
       "    </tr>\n",
       "    <tr>\n",
       "      <th>unique</th>\n",
       "      <td>2160</td>\n",
       "      <td>2</td>\n",
       "      <td>27</td>\n",
       "      <td>121</td>\n",
       "      <td>28</td>\n",
       "      <td>NaN</td>\n",
       "      <td>NaN</td>\n",
       "      <td>2</td>\n",
       "      <td>44</td>\n",
       "      <td>NaN</td>\n",
       "      <td>2</td>\n",
       "      <td>NaN</td>\n",
       "    </tr>\n",
       "    <tr>\n",
       "      <th>top</th>\n",
       "      <td>PcCom Revolt One 3070 Intel Core i7-11800H/16G...</td>\n",
       "      <td>New</td>\n",
       "      <td>Asus</td>\n",
       "      <td>15S</td>\n",
       "      <td>Intel Core i7</td>\n",
       "      <td>NaN</td>\n",
       "      <td>NaN</td>\n",
       "      <td>SSD</td>\n",
       "      <td>RTX 3050</td>\n",
       "      <td>NaN</td>\n",
       "      <td>No</td>\n",
       "      <td>NaN</td>\n",
       "    </tr>\n",
       "    <tr>\n",
       "      <th>freq</th>\n",
       "      <td>1</td>\n",
       "      <td>1498</td>\n",
       "      <td>415</td>\n",
       "      <td>115</td>\n",
       "      <td>710</td>\n",
       "      <td>NaN</td>\n",
       "      <td>NaN</td>\n",
       "      <td>2062</td>\n",
       "      <td>129</td>\n",
       "      <td>NaN</td>\n",
       "      <td>1933</td>\n",
       "      <td>NaN</td>\n",
       "    </tr>\n",
       "    <tr>\n",
       "      <th>mean</th>\n",
       "      <td>NaN</td>\n",
       "      <td>NaN</td>\n",
       "      <td>NaN</td>\n",
       "      <td>NaN</td>\n",
       "      <td>NaN</td>\n",
       "      <td>15.413889</td>\n",
       "      <td>596.294444</td>\n",
       "      <td>NaN</td>\n",
       "      <td>NaN</td>\n",
       "      <td>15.168112</td>\n",
       "      <td>NaN</td>\n",
       "      <td>1312.638509</td>\n",
       "    </tr>\n",
       "    <tr>\n",
       "      <th>std</th>\n",
       "      <td>NaN</td>\n",
       "      <td>NaN</td>\n",
       "      <td>NaN</td>\n",
       "      <td>NaN</td>\n",
       "      <td>NaN</td>\n",
       "      <td>9.867815</td>\n",
       "      <td>361.220506</td>\n",
       "      <td>NaN</td>\n",
       "      <td>NaN</td>\n",
       "      <td>1.203329</td>\n",
       "      <td>NaN</td>\n",
       "      <td>911.475417</td>\n",
       "    </tr>\n",
       "    <tr>\n",
       "      <th>min</th>\n",
       "      <td>NaN</td>\n",
       "      <td>NaN</td>\n",
       "      <td>NaN</td>\n",
       "      <td>NaN</td>\n",
       "      <td>NaN</td>\n",
       "      <td>4.000000</td>\n",
       "      <td>0.000000</td>\n",
       "      <td>NaN</td>\n",
       "      <td>NaN</td>\n",
       "      <td>10.100000</td>\n",
       "      <td>NaN</td>\n",
       "      <td>201.050000</td>\n",
       "    </tr>\n",
       "    <tr>\n",
       "      <th>25%</th>\n",
       "      <td>NaN</td>\n",
       "      <td>NaN</td>\n",
       "      <td>NaN</td>\n",
       "      <td>NaN</td>\n",
       "      <td>NaN</td>\n",
       "      <td>8.000000</td>\n",
       "      <td>256.000000</td>\n",
       "      <td>NaN</td>\n",
       "      <td>NaN</td>\n",
       "      <td>14.000000</td>\n",
       "      <td>NaN</td>\n",
       "      <td>661.082500</td>\n",
       "    </tr>\n",
       "    <tr>\n",
       "      <th>50%</th>\n",
       "      <td>NaN</td>\n",
       "      <td>NaN</td>\n",
       "      <td>NaN</td>\n",
       "      <td>NaN</td>\n",
       "      <td>NaN</td>\n",
       "      <td>16.000000</td>\n",
       "      <td>512.000000</td>\n",
       "      <td>NaN</td>\n",
       "      <td>NaN</td>\n",
       "      <td>15.600000</td>\n",
       "      <td>NaN</td>\n",
       "      <td>1031.945000</td>\n",
       "    </tr>\n",
       "    <tr>\n",
       "      <th>75%</th>\n",
       "      <td>NaN</td>\n",
       "      <td>NaN</td>\n",
       "      <td>NaN</td>\n",
       "      <td>NaN</td>\n",
       "      <td>NaN</td>\n",
       "      <td>16.000000</td>\n",
       "      <td>1000.000000</td>\n",
       "      <td>NaN</td>\n",
       "      <td>NaN</td>\n",
       "      <td>15.600000</td>\n",
       "      <td>NaN</td>\n",
       "      <td>1708.970000</td>\n",
       "    </tr>\n",
       "    <tr>\n",
       "      <th>max</th>\n",
       "      <td>NaN</td>\n",
       "      <td>NaN</td>\n",
       "      <td>NaN</td>\n",
       "      <td>NaN</td>\n",
       "      <td>NaN</td>\n",
       "      <td>128.000000</td>\n",
       "      <td>4000.000000</td>\n",
       "      <td>NaN</td>\n",
       "      <td>NaN</td>\n",
       "      <td>18.000000</td>\n",
       "      <td>NaN</td>\n",
       "      <td>7150.470000</td>\n",
       "    </tr>\n",
       "  </tbody>\n",
       "</table>\n",
       "</div>"
      ],
      "text/plain": [
       "                                                   Laptop Status Brand Model  \\\n",
       "count                                                2160   2160  2160  2160   \n",
       "unique                                               2160      2    27   121   \n",
       "top     PcCom Revolt One 3070 Intel Core i7-11800H/16G...    New  Asus   15S   \n",
       "freq                                                    1   1498   415   115   \n",
       "mean                                                  NaN    NaN   NaN   NaN   \n",
       "std                                                   NaN    NaN   NaN   NaN   \n",
       "min                                                   NaN    NaN   NaN   NaN   \n",
       "25%                                                   NaN    NaN   NaN   NaN   \n",
       "50%                                                   NaN    NaN   NaN   NaN   \n",
       "75%                                                   NaN    NaN   NaN   NaN   \n",
       "max                                                   NaN    NaN   NaN   NaN   \n",
       "\n",
       "                  CPU          RAM      Storage Storage type       GPU  \\\n",
       "count            2160  2160.000000  2160.000000         2118       789   \n",
       "unique             28          NaN          NaN            2        44   \n",
       "top     Intel Core i7          NaN          NaN          SSD  RTX 3050   \n",
       "freq              710          NaN          NaN         2062       129   \n",
       "mean              NaN    15.413889   596.294444          NaN       NaN   \n",
       "std               NaN     9.867815   361.220506          NaN       NaN   \n",
       "min               NaN     4.000000     0.000000          NaN       NaN   \n",
       "25%               NaN     8.000000   256.000000          NaN       NaN   \n",
       "50%               NaN    16.000000   512.000000          NaN       NaN   \n",
       "75%               NaN    16.000000  1000.000000          NaN       NaN   \n",
       "max               NaN   128.000000  4000.000000          NaN       NaN   \n",
       "\n",
       "             Screen Touch  Final Price  \n",
       "count   2156.000000  2160  2160.000000  \n",
       "unique          NaN     2          NaN  \n",
       "top             NaN    No          NaN  \n",
       "freq            NaN  1933          NaN  \n",
       "mean      15.168112   NaN  1312.638509  \n",
       "std        1.203329   NaN   911.475417  \n",
       "min       10.100000   NaN   201.050000  \n",
       "25%       14.000000   NaN   661.082500  \n",
       "50%       15.600000   NaN  1031.945000  \n",
       "75%       15.600000   NaN  1708.970000  \n",
       "max       18.000000   NaN  7150.470000  "
      ]
     },
     "execution_count": 59,
     "metadata": {},
     "output_type": "execute_result"
    }
   ],
   "source": [
    "laptops_dataframe.describe(include='all')"
   ]
  },
  {
   "cell_type": "code",
   "execution_count": 18,
   "metadata": {},
   "outputs": [
    {
     "data": {
      "text/plain": [
       "2160"
      ]
     },
     "execution_count": 18,
     "metadata": {},
     "output_type": "execute_result"
    }
   ],
   "source": [
    "# Question 2\n",
    "laptops_dataframe.shape[0]"
   ]
  },
  {
   "cell_type": "code",
   "execution_count": 24,
   "metadata": {},
   "outputs": [
    {
     "name": "stdout",
     "output_type": "stream",
     "text": [
      "27\n"
     ]
    }
   ],
   "source": [
    "# Question 3\n",
    "laptop_brands = laptops_dataframe[\"Brand\"].unique()\n",
    "print(len(laptop_brands))"
   ]
  },
  {
   "cell_type": "code",
   "execution_count": 50,
   "metadata": {},
   "outputs": [
    {
     "name": "stdout",
     "output_type": "stream",
     "text": [
      "3\n"
     ]
    }
   ],
   "source": [
    "# Questino 4\n",
    "na_counts = laptops_dataframe.isna().sum()\n",
    "columns_with_na = na_counts[na_counts > 0].count()\n",
    "print(columns_with_na)\n"
   ]
  },
  {
   "cell_type": "code",
   "execution_count": 57,
   "metadata": {},
   "outputs": [
    {
     "name": "stdout",
     "output_type": "stream",
     "text": [
      "3936.0\n"
     ]
    }
   ],
   "source": [
    "# Question 5\n",
    "dell_laptops = laptops_dataframe[laptops_dataframe[\"Brand\"] == \"Dell\"]\n",
    "dell_laptops_max_price = dell_laptops[\"Final Price\"].max()\n",
    "\n",
    "print(dell_laptops_max_price)"
   ]
  },
  {
   "cell_type": "code",
   "execution_count": 61,
   "metadata": {},
   "outputs": [
    {
     "name": "stdout",
     "output_type": "stream",
     "text": [
      "With NA: 15.6\n",
      "Filled : 15.6\n"
     ]
    }
   ],
   "source": [
    "# Question 6\n",
    "laptop_screens = laptops_dataframe[\"Screen\"]\n",
    "laptop_screens_median = laptop_screens.median()\n",
    "\n",
    "laptop_screens_mode = laptop_screens.mode()\n",
    "laptop_screens_filled = laptop_screens.fillna(laptop_screens_mode[0])\n",
    "\n",
    "laptop_screens_filled_median = laptop_screens_filled.median()\n",
    "\n",
    "print(f\"With NA: {laptop_screens_median}\")\n",
    "print(f\"Filled : {laptop_screens_filled_median}\")"
   ]
  },
  {
   "cell_type": "code",
   "execution_count": 85,
   "metadata": {},
   "outputs": [
    {
     "name": "stdout",
     "output_type": "stream",
     "text": [
      "[[ 289.28183831 -163.28302487 -325.17111146  134.62818528   52.44041848\n",
      "    57.68446033]\n",
      " [  -1.21170793    3.83576374    1.00713386   -1.59921842   -0.76387432\n",
      "    -0.84026175]\n",
      " [ -96.49448601   35.07282588  137.12712814  -27.18972029   -1.53546111\n",
      "    -1.68900722]]\n",
      "91.29988062995548\n"
     ]
    }
   ],
   "source": [
    "# Question 7\n",
    "Innjoo_laptops = laptops_dataframe[laptops_dataframe[\"Brand\"] == \"Innjoo\"]\n",
    "Innjoo_laptops = Innjoo_laptops[[\"RAM\", \"Storage\", \"Screen\"]]\n",
    "\n",
    "X = Innjoo_laptops.to_numpy()\n",
    "XTX = X.T @ X\n",
    "XTX_inv = np.linalg.inv(XTX)\n",
    "\n",
    "y = [1100, 1300, 800, 900, 1000, 1100]\n",
    "\n",
    "w = (XTX_inv @ X.T) * y\n",
    "print(w.sum())"
   ]
  }
 ],
 "metadata": {
  "kernelspec": {
   "display_name": ".venv",
   "language": "python",
   "name": "python3"
  },
  "language_info": {
   "codemirror_mode": {
    "name": "ipython",
    "version": 3
   },
   "file_extension": ".py",
   "mimetype": "text/x-python",
   "name": "python",
   "nbconvert_exporter": "python",
   "pygments_lexer": "ipython3",
   "version": "3.12.3"
  }
 },
 "nbformat": 4,
 "nbformat_minor": 2
}
